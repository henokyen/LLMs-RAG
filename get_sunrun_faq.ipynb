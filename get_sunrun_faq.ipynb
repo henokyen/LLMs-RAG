{
 "cells": [
  {
   "cell_type": "code",
   "execution_count": 1,
   "metadata": {},
   "outputs": [],
   "source": [
    "import requests\n",
    "from bs4 import BeautifulSoup\n",
    "import json"
   ]
  },
  {
   "cell_type": "code",
   "execution_count": 2,
   "metadata": {},
   "outputs": [],
   "source": [
    "# URL of the FAQ page\n",
    "url = \"https://www.sunrun.com/go-solar-center/solar-faq\"\n",
    "# Send a GET request to the URL\n",
    "response = requests.get(url)"
   ]
  },
  {
   "cell_type": "code",
   "execution_count": 3,
   "metadata": {},
   "outputs": [
    {
     "data": {
      "text/plain": [
       "<Response [200]>"
      ]
     },
     "execution_count": 3,
     "metadata": {},
     "output_type": "execute_result"
    }
   ],
   "source": [
    "response"
   ]
  },
  {
   "cell_type": "code",
   "execution_count": 8,
   "metadata": {},
   "outputs": [
    {
     "ename": "SyntaxError",
     "evalue": "invalid syntax (1462243224.py, line 7)",
     "output_type": "error",
     "traceback": [
      "\u001b[0;36m  Cell \u001b[0;32mIn[8], line 7\u001b[0;36m\u001b[0m\n\u001b[0;31m    faq_sections = soup.find_all('div', class='go-solar-center')\u001b[0m\n\u001b[0m                                        ^\u001b[0m\n\u001b[0;31mSyntaxError\u001b[0m\u001b[0;31m:\u001b[0m invalid syntax\n"
     ]
    }
   ],
   "source": [
    "\n",
    "# Check if the request was successful\n",
    "if response.status_code == 200:\n",
    "    # Parse the HTML content\n",
    "    soup = BeautifulSoup(response.content, 'html.parser')\n",
    "    \n",
    "    # Find the FAQ sections\n",
    "    faq_sections = soup.find_all('div', class_='go-solar-center')\n",
    "    print(faq_sections)\n",
    "    \n",
    "    # Initialize a list to hold the FAQ data\n",
    "    faq_data = []\n",
    "    \n",
    "    for section in faq_sections:\n",
    "        # Find all questions and answers within the section\n",
    "        questions = section.find_all('div', class_='question')\n",
    "        answers = section.find_all('div', class_='answer')\n",
    "        \n",
    "        for question, answer in zip(questions, answers):\n",
    "            faq_item = {\n",
    "                'question': question.get_text(strip=True),\n",
    "                'answer': answer.get_text(strip=True)\n",
    "            }\n",
    "            faq_data.append(faq_item)\n",
    "    \n",
    "    # Convert the list to JSON\n",
    "    faq_json = json.dumps(faq_data, indent=4)\n",
    "    \n",
    "    # Save the JSON data to a file\n",
    "    with open('faq_data.json', 'w') as json_file:\n",
    "        json_file.write(faq_json)\n",
    "    \n",
    "    print(\"FAQ data has been extracted and saved to faq_data.json\")\n",
    "else:\n",
    "    print(f\"Failed to retrieve the webpage. Status code: {response.status_code}\")"
   ]
  },
  {
   "cell_type": "code",
   "execution_count": null,
   "metadata": {},
   "outputs": [],
   "source": []
  }
 ],
 "metadata": {
  "kernelspec": {
   "display_name": "Python 3",
   "language": "python",
   "name": "python3"
  },
  "language_info": {
   "codemirror_mode": {
    "name": "ipython",
    "version": 3
   },
   "file_extension": ".py",
   "mimetype": "text/x-python",
   "name": "python",
   "nbconvert_exporter": "python",
   "pygments_lexer": "ipython3",
   "version": "3.9.6"
  }
 },
 "nbformat": 4,
 "nbformat_minor": 2
}
